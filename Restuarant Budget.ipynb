{
 "cells": [
  {
   "cell_type": "code",
   "execution_count": 1,
   "id": "7f13a514",
   "metadata": {},
   "outputs": [
    {
     "name": "stdout",
     "output_type": "stream",
     "text": [
      "Restaurant Menu:\n",
      "Burger: $8.99\n",
      "Fries: $3.50\n",
      "Pizza: $12.00\n",
      "Salad: $7.99\n",
      "Soda: $1.99\n",
      "Ice Cream: $4.50\n"
     ]
    }
   ],
   "source": [
    "# Restaurant Menu Dictionary\n",
    "menu = {'Burger': 8.99, 'Fries': 3.50, 'Pizza': 12.00, 'Salad': 7.99,\n",
    "       'Soda': 1.99, 'Ice Cream': 4.50}\n",
    "\n",
    "print('Restaurant Menu:')\n",
    "for item, price in menu.items():\n",
    "    print(f'{item}: ${price:.2f}')"
   ]
  },
  {
   "cell_type": "markdown",
   "id": "6404766f",
   "metadata": {},
   "source": [
    "## Ask user for their budget"
   ]
  },
  {
   "cell_type": "code",
   "execution_count": 3,
   "id": "4d4edd4c",
   "metadata": {},
   "outputs": [
    {
     "name": "stdout",
     "output_type": "stream",
     "text": [
      "Enter your budget: $5\n",
      "\n",
      "You can afford the following items:\n",
      "Fries: $3.50\n",
      "Soda: $1.99\n",
      "Ice Cream: $4.50\n"
     ]
    }
   ],
   "source": [
    "budget = float(input('Enter your budget: $'))\n",
    "\n",
    "# Display items within budget\n",
    "print('\\nYou can afford the following items:')\n",
    "for item, price in menu.items():\n",
    "    if price <= budget:\n",
    "        print(f'{item}: ${price:.2f}')"
   ]
  },
  {
   "cell_type": "markdown",
   "id": "690c3e1c",
   "metadata": {},
   "source": [
    "## Offer a Discount on Items above certain price"
   ]
  },
  {
   "cell_type": "code",
   "execution_count": 4,
   "id": "da49e68c",
   "metadata": {},
   "outputs": [
    {
     "name": "stdout",
     "output_type": "stream",
     "text": [
      "\n",
      "Items with a discount (if price > $10):\n",
      "Pizza: Original: $12.00, Discounted: $10.80\n"
     ]
    }
   ],
   "source": [
    "# Offer discount on items above $10\n",
    "discount = .10 #10% discount\n",
    "print('\\nItems with a discount (if price > $10):')\n",
    "for item, price in menu.items():\n",
    "    if price > 10:\n",
    "        discounted_price = price - (price * discount)\n",
    "        print(f'{item}: Original: ${price:.2f}, Discounted: ${discounted_price:.2f}')"
   ]
  },
  {
   "cell_type": "code",
   "execution_count": 5,
   "id": "0e255d54",
   "metadata": {},
   "outputs": [
    {
     "name": "stdout",
     "output_type": "stream",
     "text": [
      "Restaurant Menu:\n",
      "Burger: $8.99\n",
      "Enter your budget: $5\n",
      "Fries: $3.50\n",
      "Enter your budget: $6\n",
      "Pizza: $12.00\n",
      "Enter your budget: $7\n",
      "Salad: $7.99\n",
      "Enter your budget: $70\n",
      "Soda: $1.99\n",
      "Enter your budget: $1\n",
      "Ice Cream: $4.50\n",
      "Enter your budget: $2\n",
      "\n",
      "You can afford the following items:\n",
      "Soda: $1.99\n",
      "\n",
      "Items with a discount (if price > $10):\n",
      "Pizza: Original: $12.00, Discounted: $10.80\n"
     ]
    }
   ],
   "source": [
    "# Restaurant Menu Dictionary\n",
    "menu = {'Burger': 8.99, 'Fries': 3.50, 'Pizza': 12.00, 'Salad': 7.99,\n",
    "       'Soda': 1.99, 'Ice Cream': 4.50}\n",
    "\n",
    "print('Restaurant Menu:')\n",
    "for item, price in menu.items():\n",
    "    print(f'{item}: ${price:.2f}')\n",
    "    \n",
    "    budget = float(input('Enter your budget: $'))\n",
    "# Display items within budget\n",
    "print('\\nYou can afford the following items:')\n",
    "for item, price in menu.items():\n",
    "    if price <= budget:\n",
    "        print(f'{item}: ${price:.2f}')\n",
    "        # Offer discount on items above $10\n",
    "discount = .10 #10% discount\n",
    "print('\\nItems with a discount (if price > $10):')\n",
    "for item, price in menu.items():\n",
    "    if price > 10:\n",
    "        discounted_price = price - (price * discount)\n",
    "        print(f'{item}: Original: ${price:.2f}, Discounted: ${discounted_price:.2f}')"
   ]
  },
  {
   "cell_type": "code",
   "execution_count": null,
   "id": "e94ab23f",
   "metadata": {},
   "outputs": [],
   "source": []
  }
 ],
 "metadata": {
  "kernelspec": {
   "display_name": "Python 3 (ipykernel)",
   "language": "python",
   "name": "python3"
  },
  "language_info": {
   "codemirror_mode": {
    "name": "ipython",
    "version": 3
   },
   "file_extension": ".py",
   "mimetype": "text/x-python",
   "name": "python",
   "nbconvert_exporter": "python",
   "pygments_lexer": "ipython3",
   "version": "3.11.5"
  }
 },
 "nbformat": 4,
 "nbformat_minor": 5
}
